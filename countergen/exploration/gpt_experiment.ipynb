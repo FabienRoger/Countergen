{
    "cells": [
        {
            "cell_type": "code",
            "execution_count": 57,
            "metadata": {},
            "outputs": [],
            "source": [
                "import countergen"
            ]
        },
        {
            "cell_type": "code",
            "execution_count": 58,
            "metadata": {},
            "outputs": [],
            "source": [
                "dsa = countergen.Dataset.from_default(\"doublebind-positive\")\n",
                "dsb = countergen.Dataset.from_default(\"doublebind-negative\")\n",
                "ds2a = countergen.Dataset.from_default(\"female-stereotypes\")\n",
                "ds2b = countergen.Dataset.from_default(\"male-stereotypes\")"
            ]
        },
        {
            "cell_type": "code",
            "execution_count": 59,
            "metadata": {},
            "outputs": [],
            "source": [
                "augmenters = [countergen.SimpleAugmenter.from_default(\"gender\")]"
            ]
        },
        {
            "cell_type": "code",
            "execution_count": 60,
            "metadata": {},
            "outputs": [
                {
                    "name": "stderr",
                    "output_type": "stream",
                    "text": [
                        "100%|██████████| 9/9 [00:00<00:00, 9011.40it/s]\n",
                        "100%|██████████| 9/9 [00:00<00:00, 9007.10it/s]\n",
                        "100%|██████████| 9/9 [00:00<00:00, 9017.85it/s]\n",
                        "100%|██████████| 31/31 [00:00<00:00, 7750.10it/s]\n"
                    ]
                }
            ],
            "source": [
                "aug_dsa = dsa.augment(augmenters)\n",
                "aug_dsb = dsb.augment(augmenters)\n",
                "aug_ds2a = ds2a.augment(augmenters)\n",
                "aug_ds2b = ds2b.augment(augmenters)"
            ]
        },
        {
            "cell_type": "code",
            "execution_count": 61,
            "metadata": {},
            "outputs": [],
            "source": [
                "from countergen import get_generative_model_evaluator, api_to_generative_model\n",
                "\n",
                "model_names = [\"ada\", \"babbage\", \"curie\", \"davinci\", \"instruct\"]\n",
                "model_codes = [\"text-ada-001\",\"text-babbage-001\",\"text-curie-001\", \"text-davinci-002\", \"text-davinci-002\"]\n",
                "model_evs = [get_generative_model_evaluator(api_to_generative_model(code), \"probability\") for code in model_codes]"
            ]
        },
        {
            "cell_type": "code",
            "execution_count": 62,
            "metadata": {},
            "outputs": [
                {
                    "data": {
                        "text/plain": [
                            "['text-ada-001',\n",
                            " 'text-babbage-001',\n",
                            " 'text-curie-001',\n",
                            " 'text-davinci-002',\n",
                            " 'text-davinci-002']"
                        ]
                    },
                    "execution_count": 62,
                    "metadata": {},
                    "output_type": "execute_result"
                }
            ],
            "source": [
                "model_codes"
            ]
        },
        {
            "cell_type": "code",
            "execution_count": 63,
            "metadata": {},
            "outputs": [],
            "source": [
                "aggregator = countergen.aggregators.DifferenceStats(\"male\", \"female\", relative_difference=True)"
            ]
        },
        {
            "cell_type": "code",
            "execution_count": 65,
            "metadata": {},
            "outputs": [
                {
                    "name": "stderr",
                    "output_type": "stream",
                    "text": [
                        "100%|██████████| 9/9 [00:27<00:00,  3.09s/it]\n",
                        "100%|██████████| 9/9 [00:31<00:00,  3.53s/it]\n",
                        "100%|██████████| 9/9 [00:43<00:00,  4.81s/it]\n",
                        "100%|██████████| 9/9 [01:16<00:00,  8.46s/it]\n",
                        "100%|██████████| 9/9 [01:11<00:00,  7.96s/it]\n",
                        "100%|██████████| 9/9 [00:29<00:00,  3.26s/it]\n",
                        "100%|██████████| 9/9 [00:32<00:00,  3.66s/it]\n",
                        "100%|██████████| 9/9 [00:42<00:00,  4.69s/it]\n",
                        "100%|██████████| 9/9 [01:06<00:00,  7.43s/it]\n",
                        "100%|██████████| 9/9 [01:08<00:00,  7.59s/it]\n",
                        "100%|██████████| 9/9 [00:02<00:00,  3.24it/s]\n",
                        "100%|██████████| 9/9 [00:02<00:00,  3.35it/s]\n",
                        "100%|██████████| 9/9 [00:03<00:00,  2.64it/s]\n",
                        "100%|██████████| 9/9 [00:06<00:00,  1.43it/s]\n",
                        "100%|██████████| 9/9 [00:07<00:00,  1.22it/s]\n",
                        "100%|██████████| 31/31 [00:08<00:00,  3.47it/s]\n",
                        "100%|██████████| 31/31 [00:09<00:00,  3.13it/s]\n",
                        "100%|██████████| 31/31 [00:12<00:00,  2.42it/s]\n",
                        "100%|██████████| 31/31 [00:20<00:00,  1.48it/s]\n",
                        "100%|██████████| 31/31 [00:20<00:00,  1.50it/s]\n"
                    ]
                }
            ],
            "source": [
                "resultsa = [countergen.evaluate(aug_dsa.samples, model_ev, aggregator) for model_ev in model_evs]\n",
                "resultsb = [countergen.evaluate(aug_dsb.samples, model_ev, aggregator) for model_ev in model_evs]\n",
                "results2a = [countergen.evaluate(aug_ds2a.samples, model_ev, aggregator) for model_ev in model_evs]\n",
                "results2b = [countergen.evaluate(aug_ds2b.samples, model_ev, aggregator) for model_ev in model_evs]"
            ]
        },
        {
            "cell_type": "code",
            "execution_count": 66,
            "metadata": {},
            "outputs": [
                {
                    "name": "stdout",
                    "output_type": "stream",
                    "text": [
                        "doublebind positive\n",
                        "ada : -4.850e-01 +- 3.603e-01\n",
                        "babbage : -2.507e-01 +- 2.283e-01\n",
                        "curie : -3.523e-01 +- 1.806e-01\n",
                        "davinci : -1.143e-01 +- 3.681e-01\n",
                        "instruct : -1.164e-01 +- 3.669e-01\n",
                        "doublebind negative\n",
                        "ada : -1.440e-01 +- 4.126e-01\n",
                        "babbage : -1.114e-02 +- 2.454e-01\n",
                        "curie : -1.700e-01 +- 2.246e-01\n",
                        "davinci : 1.710e-02 +- 3.344e-01\n",
                        "instruct : 2.629e-02 +- 3.342e-01\n",
                        "female stereotypes\n",
                        "ada : -2.077e-01 +- 5.508e-01\n",
                        "babbage : 2.193e-02 +- 4.976e-01\n",
                        "curie : -1.287e-01 +- 4.964e-01\n",
                        "davinci : 2.019e-01 +- 5.214e-01\n",
                        "instruct : 2.018e-01 +- 5.215e-01\n",
                        "male stereotypes\n",
                        "ada : 2.339e-01 +- 3.158e-01\n",
                        "babbage : 3.345e-01 +- 2.667e-01\n",
                        "curie : 2.343e-01 +- 2.670e-01\n",
                        "davinci : 4.764e-01 +- 2.180e-01\n",
                        "instruct : 4.809e-01 +- 2.174e-01\n"
                    ]
                }
            ],
            "source": [
                "print(\"doublebind positive\")\n",
                "for model_name, stats in zip(model_names, resultsa):\n",
                "    print(model_name,\":\", stats)\n",
                "print(\"doublebind negative\")\n",
                "for model_name, stats in zip(model_names, resultsb):\n",
                "    print(model_name,\":\", stats)\n",
                "print(\"female stereotypes\")\n",
                "for model_name, stats in zip(model_names, results2a):\n",
                "    print(model_name,\":\", stats)\n",
                "print(\"male stereotypes\")\n",
                "for model_name, stats in zip(model_names, results2b):\n",
                "    print(model_name,\":\", stats)"
            ]
        }
    ],
    "metadata": {
        "kernelspec": {
            "display_name": "Python 3.7.13 ('seven')",
            "language": "python",
            "name": "python3"
        },
        "language_info": {
            "codemirror_mode": {
                "name": "ipython",
                "version": 3
            },
            "file_extension": ".py",
            "mimetype": "text/x-python",
            "name": "python",
            "nbconvert_exporter": "python",
            "pygments_lexer": "ipython3",
            "version": "3.7.13"
        },
        "vscode": {
            "interpreter": {
                "hash": "c19ce8411f37a8b8579beb4987dd9b292a41194c1fe3735d596a9a084344949b"
            }
        }
    },
    "nbformat": 4,
    "nbformat_minor": 2
}
