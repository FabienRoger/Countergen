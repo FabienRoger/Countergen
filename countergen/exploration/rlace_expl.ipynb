{
    "cells": [
        {
            "cell_type": "code",
            "execution_count": 1,
            "metadata": {},
            "outputs": [],
            "source": [
                "%load_ext autoreload\n",
                "%autoreload 2"
            ]
        },
        {
            "cell_type": "code",
            "execution_count": 2,
            "metadata": {},
            "outputs": [],
            "source": [
                "import countergen"
            ]
        },
        {
            "cell_type": "code",
            "execution_count": 3,
            "metadata": {},
            "outputs": [],
            "source": [
                "from countergen.augmentation import Dataset\n",
                "ds = Dataset.from_jsonl(\"D:\\_Docs\\Programmation\\Python\\Counterfactual-Dataset-Generator\\countergen\\data\\datasets\\doublebind.jsonl\")"
            ]
        },
        {
            "cell_type": "code",
            "execution_count": 4,
            "metadata": {},
            "outputs": [],
            "source": [
                "from countergen.augmentation import SimpleAugmenter\n",
                "augmenters = [SimpleAugmenter.from_default(\"gender\")]"
            ]
        },
        {
            "cell_type": "code",
            "execution_count": 5,
            "metadata": {},
            "outputs": [
                {
                    "name": "stderr",
                    "output_type": "stream",
                    "text": [
                        "100%|██████████| 9/9 [00:00<00:00, 27.37it/s]\n"
                    ]
                }
            ],
            "source": [
                "aug_ds = ds.augment(augmenters)"
            ]
        },
        {
            "cell_type": "code",
            "execution_count": 6,
            "metadata": {},
            "outputs": [],
            "source": [
                "from countergen.evaluation import get_generative_model_evaluator, pt_to_generative_model\n",
                "from countergen.tools.utils import get_device\n",
                "from transformers import GPT2LMHeadModel\n",
                "import torch\n",
                "\n",
                "model_names = [\"distilgpt2\"]\n",
                "device = get_device()\n",
                "model: torch.nn.Module = GPT2LMHeadModel.from_pretrained(model_names[0]).to(device)\n",
                "model_ev = get_generative_model_evaluator(pt_to_generative_model(model), \"probability\")"
            ]
        },
        {
            "cell_type": "code",
            "execution_count": 7,
            "metadata": {},
            "outputs": [],
            "source": [
                "aggregator = countergen.evaluation.PerformanceStatsPerCategory()"
            ]
        },
        {
            "cell_type": "code",
            "execution_count": 8,
            "metadata": {},
            "outputs": [
                {
                    "name": "stderr",
                    "output_type": "stream",
                    "text": [
                        "100%|██████████| 9/9 [00:04<00:00,  2.23it/s]\n"
                    ]
                }
            ],
            "source": [
                "results = countergen.evaluation.evaluate(aug_ds.samples, model_ev, aggregator)"
            ]
        },
        {
            "cell_type": "code",
            "execution_count": 9,
            "metadata": {},
            "outputs": [
                {
                    "data": {
                        "image/png": "[encoded data removed]",
                        "text/plain": [
                            "<Figure size 640x480 with 1 Axes>"
                        ]
                    },
                    "metadata": {},
                    "output_type": "display_data"
                }
            ],
            "source": [
                "aggregator.display({\"distilgpt2\":results})"
            ]
        },
        {
            "cell_type": "markdown",
            "metadata": {},
            "source": [
                "## 7. Edit..."
            ]
        },
        {
            "cell_type": "code",
            "execution_count": 10,
            "metadata": {},
            "outputs": [],
            "source": [
                "from countergen.editing import ActivationsDataset, get_mlp_modules\n",
                "layers_dict = get_mlp_modules(model, [2,3])\n",
                "layers = list(layers_dict.values())\n",
                "act_ds = ActivationsDataset.from_augmented_samples(aug_ds.samples, model, layers)"
            ]
        },
        {
            "cell_type": "code",
            "execution_count": 11,
            "metadata": {},
            "outputs": [
                {
                    "data": {
                        "text/plain": [
                            "torch.Size([2942, 768])"
                        ]
                    },
                    "execution_count": 11,
                    "metadata": {},
                    "output_type": "execute_result"
                }
            ],
            "source": [
                "act_ds.x_data.shape"
            ]
        },
        {
            "cell_type": "code",
            "execution_count": null,
            "metadata": {},
            "outputs": [],
            "source": [
                "from countergen.editing.direction_algos import rlace\n",
                "dirs = rlace(act_ds, n_dim=2, out_iters=100, num_clfs_in_eval=1, evalaute_every=50)"
            ]
        },
        {
            "cell_type": "code",
            "execution_count": 19,
            "metadata": {},
            "outputs": [],
            "source": [
                "d = 300\n",
                "n = 1000\n",
                "permutation = torch.randperm(len(act_ds.x_data))\n",
                "r_act_ds = ActivationsDataset(\n",
                "    act_ds.x_data[permutation][:n, :d],\n",
                "    act_ds.y_data[permutation][:n]\n",
                ")\n",
                "r_act_ds_dev = ActivationsDataset(\n",
                "    act_ds.x_data[permutation][n:2*n, :d],\n",
                "    act_ds.y_data[permutation][n:2*n]\n",
                ")"
            ]
        },
        {
            "cell_type": "code",
            "execution_count": 21,
            "metadata": {},
            "outputs": [
                {
                    "name": "stderr",
                    "output_type": "stream",
                    "text": [
                        "24000/75000. Acc post-projection: 51.700%; best so-far: 50.700%; Maj: 50.500%; Gap: 0.200%; best loss: 2.8555; current loss: 1.2360:  33%|###3      | 24957/75000 [04:22<08:46, 94.99it/s] \n"
                    ]
                },
                {
                    "ename": "KeyboardInterrupt",
                    "evalue": "",
                    "output_type": "error",
                    "traceback": [
                        "\u001b[1;31m---------------------------------------------------------------------------\u001b[0m",
                        "\u001b[1;31mKeyboardInterrupt\u001b[0m                         Traceback (most recent call last)",
                        "\u001b[1;32m~\\AppData\\Local\\Temp\\ipykernel_12936\\2260368599.py\u001b[0m in \u001b[0;36m<module>\u001b[1;34m\u001b[0m\n\u001b[0;32m      1\u001b[0m \u001b[1;32mfrom\u001b[0m \u001b[0mcountergen\u001b[0m\u001b[1;33m.\u001b[0m\u001b[0mediting\u001b[0m\u001b[1;33m.\u001b[0m\u001b[0mdirection_algos\u001b[0m \u001b[1;32mimport\u001b[0m \u001b[0mrlace\u001b[0m\u001b[1;33m\u001b[0m\u001b[1;33m\u001b[0m\u001b[0m\n\u001b[1;32m----> 2\u001b[1;33m \u001b[0mdirs\u001b[0m \u001b[1;33m=\u001b[0m \u001b[0mrlace\u001b[0m\u001b[1;33m(\u001b[0m\u001b[0mr_act_ds\u001b[0m\u001b[1;33m,\u001b[0m \u001b[0mdev_ds\u001b[0m\u001b[1;33m=\u001b[0m\u001b[0mr_act_ds_dev\u001b[0m\u001b[1;33m,\u001b[0m \u001b[0mn_dim\u001b[0m\u001b[1;33m=\u001b[0m\u001b[1;36m2\u001b[0m\u001b[1;33m,\u001b[0m \u001b[0mout_iters\u001b[0m\u001b[1;33m=\u001b[0m\u001b[1;36m75000\u001b[0m\u001b[1;33m,\u001b[0m \u001b[0mnum_clfs_in_eval\u001b[0m\u001b[1;33m=\u001b[0m\u001b[1;36m1\u001b[0m\u001b[1;33m,\u001b[0m \u001b[0mevalaute_every\u001b[0m\u001b[1;33m=\u001b[0m\u001b[1;36m1000\u001b[0m\u001b[1;33m)\u001b[0m\u001b[1;33m\u001b[0m\u001b[1;33m\u001b[0m\u001b[0m\n\u001b[0m",
                        "\u001b[1;32md:\\_docs\\programmation\\python\\counterfactual-dataset-generator\\countergen\\editing\\direction_algos.py\u001b[0m in \u001b[0;36mrlace\u001b[1;34m(ds, dev_ds, n_dim, device, out_iters, in_iters_adv, in_iters_clf, epsilon, batch_size, evalaute_every, optimizer_class, optimizer_params_P, optimizer_params_predictor, eval_clf_params, num_clfs_in_eval)\u001b[0m\n\u001b[0;32m    225\u001b[0m \u001b[1;33m\u001b[0m\u001b[0m\n\u001b[0;32m    226\u001b[0m             \u001b[1;32mwith\u001b[0m \u001b[0mtorch\u001b[0m\u001b[1;33m.\u001b[0m\u001b[0mno_grad\u001b[0m\u001b[1;33m(\u001b[0m\u001b[1;33m)\u001b[0m\u001b[1;33m:\u001b[0m\u001b[1;33m\u001b[0m\u001b[1;33m\u001b[0m\u001b[0m\n\u001b[1;32m--> 227\u001b[1;33m                 \u001b[0mD\u001b[0m\u001b[1;33m,\u001b[0m \u001b[0mU\u001b[0m \u001b[1;33m=\u001b[0m \u001b[0mtorch\u001b[0m\u001b[1;33m.\u001b[0m\u001b[0mlinalg\u001b[0m\u001b[1;33m.\u001b[0m\u001b[0meigh\u001b[0m\u001b[1;33m(\u001b[0m\u001b[0msymmetric\u001b[0m\u001b[1;33m(\u001b[0m\u001b[0mP\u001b[0m\u001b[1;33m)\u001b[0m\u001b[1;33m.\u001b[0m\u001b[0mdetach\u001b[0m\u001b[1;33m(\u001b[0m\u001b[1;33m)\u001b[0m\u001b[1;33m.\u001b[0m\u001b[0mcpu\u001b[0m\u001b[1;33m(\u001b[0m\u001b[1;33m)\u001b[0m\u001b[1;33m)\u001b[0m\u001b[1;33m\u001b[0m\u001b[1;33m\u001b[0m\u001b[0m\n\u001b[0m\u001b[0;32m    228\u001b[0m                 \u001b[0mD\u001b[0m \u001b[1;33m=\u001b[0m \u001b[0mD\u001b[0m\u001b[1;33m.\u001b[0m\u001b[0mdetach\u001b[0m\u001b[1;33m(\u001b[0m\u001b[1;33m)\u001b[0m\u001b[1;33m.\u001b[0m\u001b[0mcpu\u001b[0m\u001b[1;33m(\u001b[0m\u001b[1;33m)\u001b[0m\u001b[1;33m.\u001b[0m\u001b[0mnumpy\u001b[0m\u001b[1;33m(\u001b[0m\u001b[1;33m)\u001b[0m\u001b[1;33m\u001b[0m\u001b[1;33m\u001b[0m\u001b[0m\n\u001b[0;32m    229\u001b[0m                 \u001b[0mD_plus_diag\u001b[0m \u001b[1;33m=\u001b[0m \u001b[0msolve_constraint\u001b[0m\u001b[1;33m(\u001b[0m\u001b[0mD\u001b[0m\u001b[1;33m,\u001b[0m \u001b[0md\u001b[0m\u001b[1;33m=\u001b[0m\u001b[0mn_dim\u001b[0m\u001b[1;33m)\u001b[0m\u001b[1;33m\u001b[0m\u001b[1;33m\u001b[0m\u001b[0m\n",
                        "\u001b[1;31mKeyboardInterrupt\u001b[0m: "
                    ]
                }
            ],
            "source": [
                "from countergen.editing.direction_algos import rlace\n",
                "dirs = rlace(r_act_ds, dev_ds=r_act_ds_dev, n_dim=2, out_iters=75000, num_clfs_in_eval=1, evalaute_every=1000)"
            ]
        },
        {
            "cell_type": "code",
            "execution_count": null,
            "metadata": {},
            "outputs": [],
            "source": []
        }
    ],
    "metadata": {
        "kernelspec": {
            "display_name": "Python 3.7.13 ('seven')",
            "language": "python",
            "name": "python3"
        },
        "language_info": {
            "codemirror_mode": {
                "name": "ipython",
                "version": 3
            },
            "file_extension": ".py",
            "mimetype": "text/x-python",
            "name": "python",
            "nbconvert_exporter": "python",
            "pygments_lexer": "ipython3",
            "version": "3.7.13"
        },
        "vscode": {
            "interpreter": {
                "hash": "c19ce8411f37a8b8579beb4987dd9b292a41194c1fe3735d596a9a084344949b"
            }
        }
    },
    "nbformat": 4,
    "nbformat_minor": 2
}