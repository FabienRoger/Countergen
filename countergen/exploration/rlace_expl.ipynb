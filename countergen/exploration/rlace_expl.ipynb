{
    "cells": [
        {
            "cell_type": "code",
            "execution_count": null,
            "metadata": {},
            "outputs": [],
            "source": [
                "%load_ext autoreload\n",
                "%autoreload 2"
            ]
        },
        {
            "cell_type": "code",
            "execution_count": null,
            "metadata": {},
            "outputs": [],
            "source": [
                "import countergen"
            ]
        },
        {
            "cell_type": "code",
            "execution_count": null,
            "metadata": {},
            "outputs": [],
            "source": [
                "from countergen.augmentation import Dataset\n",
                "ds = Dataset.from_jsonl(\"D:\\_Docs\\Programmation\\Python\\Counterfactual-Dataset-Generator\\countergen\\data\\datasets\\doublebind-positive-1token.jsonl\")"
            ]
        },
        {
            "cell_type": "code",
            "execution_count": null,
            "metadata": {},
            "outputs": [],
            "source": [
                "from countergen.augmentation import SimpleAugmenter\n",
                "augmenters = [SimpleAugmenter.from_default(\"gender\")]"
            ]
        },
        {
            "cell_type": "code",
            "execution_count": null,
            "metadata": {},
            "outputs": [],
            "source": [
                "aug_ds = ds.augment(augmenters)"
            ]
        },
        {
            "cell_type": "code",
            "execution_count": null,
            "metadata": {},
            "outputs": [],
            "source": [
                "from countergen.evaluation import get_generative_model_evaluator, pt_to_generative_model\n",
                "from countergen.tools.utils import get_device\n",
                "from transformers import GPT2LMHeadModel\n",
                "import torch\n",
                "\n",
                "model_names = [\"distilgpt2\"]\n",
                "device = get_device()\n",
                "model: torch.nn.Module = GPT2LMHeadModel.from_pretrained(model_names[0]).to(device)\n",
                "model_ev = get_generative_model_evaluator(pt_to_generative_model(model), \"probability\")"
            ]
        },
        {
            "cell_type": "code",
            "execution_count": null,
            "metadata": {},
            "outputs": [],
            "source": [
                "aggregator = countergen.evaluation.PerformanceStatsPerCategory()"
            ]
        },
        {
            "cell_type": "code",
            "execution_count": null,
            "metadata": {},
            "outputs": [],
            "source": [
                "results = countergen.evaluation.evaluate(aug_ds.samples, model_ev, aggregator)"
            ]
        },
        {
            "cell_type": "code",
            "execution_count": null,
            "metadata": {},
            "outputs": [],
            "source": [
                "aggregator.display({\"distilgpt2\":results})"
            ]
        },
        {
            "cell_type": "markdown",
            "metadata": {},
            "source": [
                "## 7. Edit..."
            ]
        },
        {
            "cell_type": "code",
            "execution_count": null,
            "metadata": {},
            "outputs": [],
            "source": [
                "from countergen.editing import ActivationsDataset, get_mlp_modules\n",
                "layers_dict = get_mlp_modules(model, [2,3])\n",
                "layers = list(layers_dict.values())\n",
                "act_ds = ActivationsDataset.from_augmented_samples(aug_ds.samples, model, layers)"
            ]
        },
        {
            "cell_type": "code",
            "execution_count": null,
            "metadata": {},
            "outputs": [],
            "source": [
                "act_ds.x_data.shape"
            ]
        },
        {
            "cell_type": "code",
            "execution_count": null,
            "metadata": {},
            "outputs": [],
            "source": [
                "from countergen.editing.direction_algos import rlace\n",
                "dirs = rlace(act_ds, n_dim=2, out_iters=100, num_clfs_in_eval=1, evalaute_every=50)"
            ]
        },
        {
            "cell_type": "code",
            "execution_count": null,
            "metadata": {},
            "outputs": [],
            "source": [
                "d = 300\n",
                "n = 1000\n",
                "permutation = torch.randperm(len(act_ds.x_data))\n",
                "r_act_ds = ActivationsDataset(\n",
                "    act_ds.x_data[permutation][:n, :d],\n",
                "    act_ds.y_data[permutation][:n]\n",
                ")\n",
                "r_act_ds_dev = ActivationsDataset(\n",
                "    act_ds.x_data[permutation][n:2*n, :d],\n",
                "    act_ds.y_data[permutation][n:2*n]\n",
                ")"
            ]
        },
        {
            "cell_type": "code",
            "execution_count": null,
            "metadata": {},
            "outputs": [],
            "source": [
                "from countergen.editing.direction_algos import rlace\n",
                "dirs = rlace(r_act_ds, dev_ds=r_act_ds_dev, n_dim=2, out_iters=75000, num_clfs_in_eval=1, evalaute_every=1000)"
            ]
        },
        {
            "cell_type": "code",
            "execution_count": null,
            "metadata": {},
            "outputs": [],
            "source": []
        }
    ],
    "metadata": {
        "kernelspec": {
            "display_name": "Python 3.7.13 ('seven')",
            "language": "python",
            "name": "python3"
        },
        "language_info": {
            "codemirror_mode": {
                "name": "ipython",
                "version": 3
            },
            "file_extension": ".py",
            "mimetype": "text/x-python",
            "name": "python",
            "nbconvert_exporter": "python",
            "pygments_lexer": "ipython3",
            "version": "3.7.13"
        },
        "vscode": {
            "interpreter": {
                "hash": "c19ce8411f37a8b8579beb4987dd9b292a41194c1fe3735d596a9a084344949b"
            }
        }
    },
    "nbformat": 4,
    "nbformat_minor": 2
}
