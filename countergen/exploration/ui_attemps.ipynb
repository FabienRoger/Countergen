{
    "cells": [
        {
            "cell_type": "code",
            "execution_count": null,
            "metadata": {},
            "outputs": [],
            "source": [
                "%load_ext autoreload\n",
                "%autoreload 2"
            ]
        },
        {
            "cell_type": "code",
            "execution_count": null,
            "metadata": {},
            "outputs": [],
            "source": [
                "import countergen as cdg\n",
                "from countergen import get_huggingface_gpt_model_evaluator, SimpleConverter, augment_dataset, evaluate"
            ]
        },
        {
            "cell_type": "code",
            "execution_count": null,
            "metadata": {},
            "outputs": [],
            "source": [
                "import ui_helpers\n",
                "r = ui_helpers.gui_fname()"
            ]
        },
        {
            "cell_type": "code",
            "execution_count": null,
            "metadata": {},
            "outputs": [],
            "source": [
                "%%javascript\n",
                "window.executePython = function(python) {\n",
                "    return new Promise((resolve, reject) => {\n",
                "        var callbacks = {\n",
                "            iopub: {\n",
                "                output: (data) => resolve(data.content.text.trim())\n",
                "            }\n",
                "        };\n",
                "        Jupyter.notebook.kernel.execute(`print(${python})`, callbacks);    \n",
                "    });\n",
                "}"
            ]
        },
        {
            "cell_type": "code",
            "execution_count": null,
            "metadata": {},
            "outputs": [],
            "source": [
                "from IPython.display import HTML\n",
                "HTML(\"\"\"\n",
                "<p id=\"p\">hey</p>\n",
                "<script>\n",
                "function executePython(code){\n",
                "    return new Promise((resolve,reject) => {\n",
                "        var callbacks = {\n",
                "            iopub: {\n",
                "                output: (data) => resolve(data.content.text.trim())\n",
                "            },\n",
                "            shell: {\n",
                "                reply: (data) => resolve(data.content.status)\n",
                "            }\n",
                "\n",
                "        };\n",
                "        Jupyter.notebook.kernel.execute(code, callbacks);\n",
                "    });\n",
                "}\n",
                "\n",
                "executePython('r = ui_helpers.gui_fname()').then(console.log(\"ok\"))\n",
                "</script>\n",
                "\"\"\")"
            ]
        },
        {
            "cell_type": "code",
            "execution_count": null,
            "metadata": {},
            "outputs": [],
            "source": [
                "a"
            ]
        },
        {
            "cell_type": "code",
            "execution_count": null,
            "metadata": {},
            "outputs": [],
            "source": [
                "r"
            ]
        },
        {
            "cell_type": "code",
            "execution_count": null,
            "metadata": {},
            "outputs": [],
            "source": [
                "a = 0"
            ]
        },
        {
            "cell_type": "code",
            "execution_count": null,
            "metadata": {},
            "outputs": [],
            "source": [
                "import numpy as np\n",
                "import matplotlib.pyplot as plt"
            ]
        },
        {
            "cell_type": "code",
            "execution_count": null,
            "metadata": {},
            "outputs": [],
            "source": [
                "plt.plot(np.arange(0,10), np.random.random(size=(10,)))\n",
                "plt.show()\n",
                "plt.plot(np.arange(0,10), np.random.random(size=(10,)))\n",
                "plt.show()"
            ]
        },
        {
            "cell_type": "code",
            "execution_count": null,
            "metadata": {},
            "outputs": [],
            "source": []
        }
    ],
    "metadata": {
        "kernelspec": {
            "display_name": "Python 3.7.13 ('seven')",
            "language": "python",
            "name": "python3"
        },
        "language_info": {
            "codemirror_mode": {
                "name": "ipython",
                "version": 3
            },
            "file_extension": ".py",
            "mimetype": "text/x-python",
            "name": "python",
            "nbconvert_exporter": "python",
            "pygments_lexer": "ipython3",
            "version": "3.7.13"
        },
        "vscode": {
            "interpreter": {
                "hash": "c19ce8411f37a8b8579beb4987dd9b292a41194c1fe3735d596a9a084344949b"
            }
        }
    },
    "nbformat": 4,
    "nbformat_minor": 2
}
