{
    "cells": [
        {
            "cell_type": "code",
            "execution_count": 10,
            "metadata": {},
            "outputs": [],
            "source": [
                "import countergen"
            ]
        },
        {
            "cell_type": "code",
            "execution_count": 11,
            "metadata": {},
            "outputs": [],
            "source": [
                "dsa = countergen.Dataset.from_default(\"doublebind-likable\")\n",
                "dsb = countergen.Dataset.from_default(\"doublebind-unlikable\")\n",
                "ds2a = countergen.Dataset.from_default(\"female-stereotypes\")\n",
                "ds2b = countergen.Dataset.from_default(\"male-stereotypes\")"
            ]
        },
        {
            "cell_type": "code",
            "execution_count": 12,
            "metadata": {},
            "outputs": [],
            "source": [
                "augmenters = [countergen.SimpleAugmenter.from_default(\"gender\")]"
            ]
        },
        {
            "cell_type": "code",
            "execution_count": 13,
            "metadata": {},
            "outputs": [
                {
                    "name": "stderr",
                    "output_type": "stream",
                    "text": [
                        "100%|██████████| 9/9 [00:00<00:00, 4503.01it/s]\n",
                        "100%|██████████| 9/9 [00:00<00:00, 9002.80it/s]\n",
                        "100%|██████████| 9/9 [00:00<00:00, 9037.28it/s]\n",
                        "100%|██████████| 30/30 [00:00<00:00, 2142.72it/s]\n"
                    ]
                }
            ],
            "source": [
                "countergen.config.seed(0)\n",
                "aug_dsa = dsa.augment(augmenters)\n",
                "aug_dsb = dsb.augment(augmenters)\n",
                "aug_ds2a = ds2a.augment(augmenters)\n",
                "aug_ds2b = ds2b.augment(augmenters)"
            ]
        },
        {
            "cell_type": "code",
            "execution_count": 14,
            "metadata": {},
            "outputs": [],
            "source": [
                "from countergen import get_generative_model_evaluator, api_to_generative_model\n",
                "\n",
                "model_names = [\"ada\", \"babbage\", \"curie\", \"davinci\", \"instruct\"]\n",
                "model_codes = [\"text-ada-001\",\"text-babbage-001\",\"text-curie-001\", \"text-davinci-002\", \"text-davinci-002\"]\n",
                "model_evs = [get_generative_model_evaluator(api_to_generative_model(code), \"probability\") for code in model_codes]"
            ]
        },
        {
            "cell_type": "code",
            "execution_count": 15,
            "metadata": {},
            "outputs": [
                {
                    "data": {
                        "text/plain": [
                            "['text-ada-001',\n",
                            " 'text-babbage-001',\n",
                            " 'text-curie-001',\n",
                            " 'text-davinci-002',\n",
                            " 'text-davinci-002']"
                        ]
                    },
                    "execution_count": 15,
                    "metadata": {},
                    "output_type": "execute_result"
                }
            ],
            "source": [
                "model_codes"
            ]
        },
        {
            "cell_type": "code",
            "execution_count": 16,
            "metadata": {},
            "outputs": [],
            "source": [
                "aggregator = countergen.aggregators.DifferenceStats(\"male\", \"female\", relative_difference=True)"
            ]
        },
        {
            "cell_type": "code",
            "execution_count": 17,
            "metadata": {},
            "outputs": [
                {
                    "name": "stderr",
                    "output_type": "stream",
                    "text": [
                        "100%|██████████| 9/9 [00:25<00:00,  2.81s/it]\n",
                        "100%|██████████| 9/9 [00:25<00:00,  2.83s/it]\n",
                        "100%|██████████| 9/9 [00:33<00:00,  3.76s/it]\n",
                        "100%|██████████| 9/9 [01:17<00:00,  8.57s/it]\n",
                        "100%|██████████| 9/9 [01:14<00:00,  8.24s/it]\n",
                        "100%|██████████| 9/9 [00:23<00:00,  2.57s/it]\n",
                        "100%|██████████| 9/9 [00:24<00:00,  2.76s/it]\n",
                        "100%|██████████| 9/9 [00:33<00:00,  3.75s/it]\n",
                        "100%|██████████| 9/9 [01:11<00:00,  7.93s/it]\n",
                        "100%|██████████| 9/9 [01:28<00:00,  9.88s/it]\n",
                        "100%|██████████| 9/9 [00:02<00:00,  3.45it/s]\n",
                        "100%|██████████| 9/9 [00:02<00:00,  3.25it/s]\n",
                        "100%|██████████| 9/9 [00:03<00:00,  2.48it/s]\n",
                        "100%|██████████| 9/9 [00:10<00:00,  1.21s/it]\n",
                        "100%|██████████| 9/9 [00:10<00:00,  1.19s/it]\n",
                        "100%|██████████| 30/30 [00:08<00:00,  3.59it/s]\n",
                        "100%|██████████| 30/30 [00:09<00:00,  3.07it/s]\n",
                        "100%|██████████| 30/30 [00:12<00:00,  2.33it/s]\n",
                        "100%|██████████| 30/30 [00:34<00:00,  1.14s/it]\n",
                        "100%|██████████| 30/30 [00:31<00:00,  1.06s/it]\n"
                    ]
                }
            ],
            "source": [
                "resultsa = [countergen.evaluate(aug_dsa.samples, model_ev, aggregator) for model_ev in model_evs]\n",
                "resultsb = [countergen.evaluate(aug_dsb.samples, model_ev, aggregator) for model_ev in model_evs]\n",
                "results2a = [countergen.evaluate(aug_ds2a.samples, model_ev, aggregator) for model_ev in model_evs]\n",
                "results2b = [countergen.evaluate(aug_ds2b.samples, model_ev, aggregator) for model_ev in model_evs]"
            ]
        },
        {
            "cell_type": "code",
            "execution_count": 18,
            "metadata": {},
            "outputs": [
                {
                    "name": "stdout",
                    "output_type": "stream",
                    "text": [
                        "doublebind positive\n",
                        "ada : -5.423e-01 +- 2.572e-01\n",
                        "babbage : -5.413e-01 +- 1.778e-01\n",
                        "curie : -1.802e-02 +- 2.416e-01\n",
                        "davinci : 2.335e-01 +- 2.633e-01\n",
                        "instruct : 2.368e-01 +- 2.583e-01\n",
                        "doublebind negative\n",
                        "ada : -4.557e-01 +- 4.184e-01\n",
                        "babbage : -4.624e-01 +- 3.498e-01\n",
                        "curie : -3.291e-01 +- 2.411e-01\n",
                        "davinci : -4.413e-02 +- 2.720e-01\n",
                        "instruct : -6.003e-02 +- 2.719e-01\n",
                        "female stereotypes\n",
                        "ada : -1.996e-01 +- 5.629e-01\n",
                        "babbage : 9.418e-04 +- 4.969e-01\n",
                        "curie : 5.668e-02 +- 4.615e-01\n",
                        "davinci : -1.803e-02 +- 5.177e-01\n",
                        "instruct : -2.400e-02 +- 5.159e-01\n",
                        "male stereotypes\n",
                        "ada : 1.831e-01 +- 3.204e-01\n",
                        "babbage : 5.021e-01 +- 2.281e-01\n",
                        "curie : 3.782e-01 +- 2.441e-01\n",
                        "davinci : 4.710e-01 +- 2.284e-01\n",
                        "instruct : 4.702e-01 +- 2.280e-01\n"
                    ]
                }
            ],
            "source": [
                "print(\"doublebind positive\")\n",
                "for model_name, stats in zip(model_names, resultsa):\n",
                "    print(model_name,\":\", stats)\n",
                "print(\"doublebind negative\")\n",
                "for model_name, stats in zip(model_names, resultsb):\n",
                "    print(model_name,\":\", stats)\n",
                "print(\"female stereotypes\")\n",
                "for model_name, stats in zip(model_names, results2a):\n",
                "    print(model_name,\":\", stats)\n",
                "print(\"male stereotypes\")\n",
                "for model_name, stats in zip(model_names, results2b):\n",
                "    print(model_name,\":\", stats)"
            ]
        }
    ],
    "metadata": {
        "kernelspec": {
            "display_name": "Python 3.7.13 ('seven')",
            "language": "python",
            "name": "python3"
        },
        "language_info": {
            "codemirror_mode": {
                "name": "ipython",
                "version": 3
            },
            "file_extension": ".py",
            "mimetype": "text/x-python",
            "name": "python",
            "nbconvert_exporter": "python",
            "pygments_lexer": "ipython3",
            "version": "3.7.13"
        },
        "vscode": {
            "interpreter": {
                "hash": "c19ce8411f37a8b8579beb4987dd9b292a41194c1fe3735d596a9a084344949b"
            }
        }
    },
    "nbformat": 4,
    "nbformat_minor": 2
}
