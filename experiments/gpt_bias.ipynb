{
    "cells": [
        {
            "cell_type": "code",
            "execution_count": 1,
            "metadata": {},
            "outputs": [],
            "source": [
                "import countergen"
            ]
        },
        {
            "cell_type": "code",
            "execution_count": 2,
            "metadata": {},
            "outputs": [],
            "source": [
                "dsa = countergen.Dataset.from_default(\"doublebind-likable\")\n",
                "dsb = countergen.Dataset.from_default(\"doublebind-unlikable\")\n",
                "ds2a = countergen.Dataset.from_default(\"female-stereotypes\")\n",
                "ds2b = countergen.Dataset.from_default(\"male-stereotypes\")"
            ]
        },
        {
            "cell_type": "code",
            "execution_count": 3,
            "metadata": {},
            "outputs": [],
            "source": [
                "augmenters = [countergen.SimpleAugmenter.from_default(\"gender\")]"
            ]
        },
        {
            "cell_type": "code",
            "execution_count": 4,
            "metadata": {},
            "outputs": [
                {
                    "name": "stderr",
                    "output_type": "stream",
                    "text": [
                        "100%|██████████| 9/9 [00:00<00:00, 2244.28it/s]\n",
                        "100%|██████████| 9/9 [00:00<?, ?it/s]\n",
                        "100%|██████████| 9/9 [00:00<?, ?it/s]\n",
                        "100%|██████████| 30/30 [00:00<00:00, 58525.17it/s]\n"
                    ]
                }
            ],
            "source": [
                "countergen.config.seed(0)\n",
                "aug_dsa = dsa.augment(augmenters)\n",
                "aug_dsb = dsb.augment(augmenters)\n",
                "aug_ds2a = ds2a.augment(augmenters)\n",
                "aug_ds2b = ds2b.augment(augmenters)"
            ]
        },
        {
            "cell_type": "code",
            "execution_count": 5,
            "metadata": {},
            "outputs": [],
            "source": [
                "from countergen import get_generative_model_evaluator, api_to_generative_model\n",
                "\n",
                "model_names = [\"ada\", \"babbage\", \"curie\", \"davinci\", \"instruct\"]\n",
                "model_codes = [\"ada\",\"babbage\",\"curie\", \"davinci\", \"text-davinci-003\"]\n",
                "model_evs = [get_generative_model_evaluator(api_to_generative_model(code), \"probability\") for code in model_codes]"
            ]
        },
        {
            "cell_type": "code",
            "execution_count": 6,
            "metadata": {},
            "outputs": [
                {
                    "data": {
                        "text/plain": [
                            "['ada', 'babbage', 'curie', 'davinci', 'text-davinci-003']"
                        ]
                    },
                    "execution_count": 6,
                    "metadata": {},
                    "output_type": "execute_result"
                }
            ],
            "source": [
                "model_codes"
            ]
        },
        {
            "cell_type": "code",
            "execution_count": 7,
            "metadata": {},
            "outputs": [],
            "source": [
                "aggregator = countergen.aggregators.DifferenceStats(\"male\", \"female\", relative_difference=True)"
            ]
        },
        {
            "cell_type": "code",
            "execution_count": 8,
            "metadata": {},
            "outputs": [
                {
                    "name": "stderr",
                    "output_type": "stream",
                    "text": [
                        "100%|██████████| 9/9 [00:29<00:00,  3.32s/it]\n",
                        "100%|██████████| 9/9 [00:30<00:00,  3.41s/it]\n",
                        "100%|██████████| 9/9 [00:29<00:00,  3.29s/it]\n",
                        "100%|██████████| 9/9 [00:49<00:00,  5.53s/it]\n",
                        "100%|██████████| 9/9 [04:49<00:00, 32.13s/it]\n",
                        "100%|██████████| 9/9 [00:29<00:00,  3.26s/it]\n",
                        "100%|██████████| 9/9 [00:27<00:00,  3.05s/it]\n",
                        "100%|██████████| 9/9 [00:29<00:00,  3.23s/it]\n",
                        "100%|██████████| 9/9 [00:50<00:00,  5.66s/it]\n",
                        "100%|██████████| 9/9 [02:50<00:00, 18.91s/it]\n",
                        "100%|██████████| 9/9 [00:03<00:00,  2.49it/s]\n",
                        "100%|██████████| 9/9 [00:03<00:00,  2.34it/s]\n",
                        "100%|██████████| 9/9 [00:04<00:00,  2.15it/s]\n",
                        "100%|██████████| 9/9 [00:05<00:00,  1.54it/s]\n",
                        "100%|██████████| 9/9 [00:36<00:00,  4.03s/it]\n",
                        "100%|██████████| 30/30 [00:10<00:00,  2.74it/s]\n",
                        "100%|██████████| 30/30 [00:11<00:00,  2.59it/s]\n",
                        "100%|██████████| 30/30 [00:11<00:00,  2.51it/s]\n",
                        "100%|██████████| 30/30 [00:17<00:00,  1.69it/s]\n",
                        "100%|██████████| 30/30 [00:48<00:00,  1.63s/it]\n"
                    ]
                }
            ],
            "source": [
                "resultsa = [countergen.evaluate(aug_dsa.samples, model_ev, aggregator) for model_ev in model_evs]\n",
                "resultsb = [countergen.evaluate(aug_dsb.samples, model_ev, aggregator) for model_ev in model_evs]\n",
                "results2a = [countergen.evaluate(aug_ds2a.samples, model_ev, aggregator) for model_ev in model_evs]\n",
                "results2b = [countergen.evaluate(aug_ds2b.samples, model_ev, aggregator) for model_ev in model_evs]"
            ]
        },
        {
            "cell_type": "code",
            "execution_count": 11,
            "metadata": {},
            "outputs": [
                {
                    "name": "stdout",
                    "output_type": "stream",
                    "text": [
                        "female stereotype male stereotype doublebind likable doublebind unlikable\n",
                        "ada : -0.23 0.18 0.07 -0.26*\n",
                        "babbage : -0.13 0.26* -0.06 -0.06\n",
                        "curie : -0.21 0.31* 0.12 -0.11\n",
                        "davinci : -0.24* 0.30* -0.19 -0.35*\n",
                        "instruct : 0.16 0.51* -0.29* -0.46*\n"
                    ]
                }
            ],
            "source": [
                "print(\"female stereotype\", \"male stereotype\", \"doublebind likable\", \"doublebind unlikable\")\n",
                "\n",
                "def process(result):\n",
                "    significant = \"*\" if abs(result.mean) > result.uncertainty_2sig else \"\"\n",
                "    return f\"{result.mean:.2f}{significant}\"\n",
                "\n",
                "for i, name in enumerate(model_names):\n",
                "    print(name, \":\", process(results2a[i]), process(results2b[i]), process(resultsa[i]), process(resultsb[i]))"
            ]
        }
    ],
    "metadata": {
        "kernelspec": {
            "display_name": "nine",
            "language": "python",
            "name": "python3"
        },
        "language_info": {
            "codemirror_mode": {
                "name": "ipython",
                "version": 3
            },
            "file_extension": ".py",
            "mimetype": "text/x-python",
            "name": "python",
            "nbconvert_exporter": "python",
            "pygments_lexer": "ipython3",
            "version": "3.10.8"
        },
        "vscode": {
            "interpreter": {
                "hash": "ee83f4319122b39e9f0da97ba141d079d71925192b9ff8d39a24e6aba4688e5f"
            }
        }
    },
    "nbformat": 4,
    "nbformat_minor": 2
}
