{
    "cells": [
        {
            "cell_type": "code",
            "execution_count": 1,
            "metadata": {},
            "outputs": [],
            "source": [
                "import countergen"
            ]
        },
        {
            "cell_type": "code",
            "execution_count": 2,
            "metadata": {},
            "outputs": [],
            "source": [
                "dsa = countergen.Dataset.from_default(\"doublebind-likable\")\n",
                "dsb = countergen.Dataset.from_default(\"doublebind-unlikable\")\n",
                "ds2a = countergen.Dataset.from_default(\"female-stereotypes\")\n",
                "ds2b = countergen.Dataset.from_default(\"male-stereotypes\")"
            ]
        },
        {
            "cell_type": "code",
            "execution_count": 3,
            "metadata": {},
            "outputs": [],
            "source": [
                "augmenters = [countergen.SimpleAugmenter.from_default(\"gender\")]"
            ]
        },
        {
            "cell_type": "code",
            "execution_count": 4,
            "metadata": {},
            "outputs": [
                {
                    "name": "stderr",
                    "output_type": "stream",
                    "text": [
                        "100%|██████████| 9/9 [00:00<00:00, 2244.28it/s]\n",
                        "100%|██████████| 9/9 [00:00<?, ?it/s]\n",
                        "100%|██████████| 9/9 [00:00<?, ?it/s]\n",
                        "100%|██████████| 30/30 [00:00<00:00, 58525.17it/s]\n"
                    ]
                }
            ],
            "source": [
                "countergen.config.seed(0)\n",
                "aug_dsa = dsa.augment(augmenters)\n",
                "aug_dsb = dsb.augment(augmenters)\n",
                "aug_ds2a = ds2a.augment(augmenters)\n",
                "aug_ds2b = ds2b.augment(augmenters)"
            ]
        },
        {
            "cell_type": "code",
            "execution_count": 5,
            "metadata": {},
            "outputs": [],
            "source": [
                "from countergen import get_generative_model_evaluator, api_to_generative_model\n",
                "\n",
                "model_names = [\"ada\", \"babbage\", \"curie\", \"davinci\", \"instruct\"]\n",
                "model_codes = [\"ada\",\"babbage\",\"curie\", \"davinci\", \"text-davinci-003\"]\n",
                "model_evs = [get_generative_model_evaluator(api_to_generative_model(code), \"probability\") for code in model_codes]"
            ]
        },
        {
            "cell_type": "code",
            "execution_count": 6,
            "metadata": {},
            "outputs": [
                {
                    "data": {
                        "text/plain": [
                            "['ada', 'babbage', 'curie', 'davinci', 'text-davinci-003']"
                        ]
                    },
                    "execution_count": 6,
                    "metadata": {},
                    "output_type": "execute_result"
                }
            ],
            "source": [
                "model_codes"
            ]
        },
        {
            "cell_type": "code",
            "execution_count": 7,
            "metadata": {},
            "outputs": [],
            "source": [
                "aggregator = countergen.aggregators.DifferenceStats(\"male\", \"female\", relative_difference=True)"
            ]
        },
        {
            "cell_type": "code",
            "execution_count": 8,
            "metadata": {},
            "outputs": [
                {
                    "name": "stderr",
                    "output_type": "stream",
                    "text": [
                        "100%|██████████| 9/9 [00:29<00:00,  3.32s/it]\n",
                        "100%|██████████| 9/9 [00:30<00:00,  3.41s/it]\n",
                        "100%|██████████| 9/9 [00:29<00:00,  3.29s/it]\n",
                        "100%|██████████| 9/9 [00:49<00:00,  5.53s/it]\n",
                        "100%|██████████| 9/9 [04:49<00:00, 32.13s/it]\n",
                        "100%|██████████| 9/9 [00:29<00:00,  3.26s/it]\n",
                        "100%|██████████| 9/9 [00:27<00:00,  3.05s/it]\n",
                        " 33%|███▎      | 3/9 [00:09<00:19,  3.20s/it]"
                    ]
                }
            ],
            "source": [
                "resultsa = [countergen.evaluate(aug_dsa.samples, model_ev, aggregator) for model_ev in model_evs]\n",
                "resultsb = [countergen.evaluate(aug_dsb.samples, model_ev, aggregator) for model_ev in model_evs]\n",
                "results2a = [countergen.evaluate(aug_ds2a.samples, model_ev, aggregator) for model_ev in model_evs]\n",
                "results2b = [countergen.evaluate(aug_ds2b.samples, model_ev, aggregator) for model_ev in model_evs]"
            ]
        },
        {
            "cell_type": "code",
            "execution_count": null,
            "metadata": {},
            "outputs": [
                {
                    "name": "stdout",
                    "output_type": "stream",
                    "text": [
                        "doublebind positive\n",
                        "ada : -5.423e-01 +- 2.572e-01\n",
                        "babbage : -5.413e-01 +- 1.778e-01\n",
                        "curie : -1.802e-02 +- 2.416e-01\n",
                        "davinci : 2.335e-01 +- 2.633e-01\n",
                        "instruct : 2.368e-01 +- 2.583e-01\n",
                        "doublebind negative\n",
                        "ada : -4.557e-01 +- 4.184e-01\n",
                        "babbage : -4.624e-01 +- 3.498e-01\n",
                        "curie : -3.291e-01 +- 2.411e-01\n",
                        "davinci : -4.413e-02 +- 2.720e-01\n",
                        "instruct : -6.003e-02 +- 2.719e-01\n",
                        "female stereotypes\n",
                        "ada : -1.996e-01 +- 5.629e-01\n",
                        "babbage : 9.418e-04 +- 4.969e-01\n",
                        "curie : 5.668e-02 +- 4.615e-01\n",
                        "davinci : -1.803e-02 +- 5.177e-01\n",
                        "instruct : -2.400e-02 +- 5.159e-01\n",
                        "male stereotypes\n",
                        "ada : 1.831e-01 +- 3.204e-01\n",
                        "babbage : 5.021e-01 +- 2.281e-01\n",
                        "curie : 3.782e-01 +- 2.441e-01\n",
                        "davinci : 4.710e-01 +- 2.284e-01\n",
                        "instruct : 4.702e-01 +- 2.280e-01\n"
                    ]
                }
            ],
            "source": [
                "print(\"female stereotype\", \"male stereotype\", \"doublebind likable\", \"doublebind unlikable\")\n",
                "for i, name in enumerate(model_names):\n",
                "    print(name, \":\", f\"{results2a[i].mean:.2f}\", f\"{results2b[i].mean:.2f}\", f\"{resultsa[i].mean:.2f}\", f\"{resultsb[i].mean:.2f}\")\n",
                "    print(name, \":\", f\"{results2a[i].std:.2f}\", f\"{results2b[i].std:.2f}\", f\"{resultsa[i].std:.2f}\", f\"{resultsb[i].std:.2f}\")"
            ]
        }
    ],
    "metadata": {
        "kernelspec": {
            "display_name": "nine",
            "language": "python",
            "name": "python3"
        },
        "language_info": {
            "codemirror_mode": {
                "name": "ipython",
                "version": 3
            },
            "file_extension": ".py",
            "mimetype": "text/x-python",
            "name": "python",
            "nbconvert_exporter": "python",
            "pygments_lexer": "ipython3",
            "version": "3.10.8"
        },
        "vscode": {
            "interpreter": {
                "hash": "ee83f4319122b39e9f0da97ba141d079d71925192b9ff8d39a24e6aba4688e5f"
            }
        }
    },
    "nbformat": 4,
    "nbformat_minor": 2
}
