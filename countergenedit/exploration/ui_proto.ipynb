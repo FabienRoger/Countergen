{
    "cells": [
        {
            "cell_type": "markdown",
            "metadata": {},
            "source": [
                "## 0. Imports"
            ]
        },
        {
            "cell_type": "code",
            "execution_count": null,
            "metadata": {},
            "outputs": [],
            "source": [
                "%load_ext autoreload\n",
                "%autoreload 2"
            ]
        },
        {
            "cell_type": "code",
            "execution_count": null,
            "metadata": {},
            "outputs": [],
            "source": [
                "import countergen"
            ]
        },
        {
            "cell_type": "markdown",
            "metadata": {},
            "source": [
                "## 1. Choose your dataset"
            ]
        },
        {
            "cell_type": "code",
            "execution_count": null,
            "metadata": {},
            "outputs": [],
            "source": [
                "ds = countergen.Dataset.from_default(\"doublebind-positive-1token\")"
            ]
        },
        {
            "cell_type": "markdown",
            "metadata": {},
            "source": [
                "## 2. Choose your augmenters"
            ]
        },
        {
            "cell_type": "code",
            "execution_count": null,
            "metadata": {},
            "outputs": [],
            "source": [
                "# augmenters = [countergen.SimpleAugmenter.from_default(\"gender\")]"
            ]
        },
        {
            "cell_type": "markdown",
            "metadata": {},
            "source": [
                "## 3. Convert!"
            ]
        },
        {
            "cell_type": "code",
            "execution_count": null,
            "metadata": {},
            "outputs": [],
            "source": [
                "# aug_ds = ds.augment(augmenters)\n",
                "aug_ds = countergen.AugmentedDataset.from_default(\"doublebind-positive-paraphrased\")"
            ]
        },
        {
            "cell_type": "markdown",
            "metadata": {},
            "source": [
                "## 4. Choose models to evaluate"
            ]
        },
        {
            "cell_type": "code",
            "execution_count": null,
            "metadata": {},
            "outputs": [],
            "source": [
                "from countergenedit.evaluation import get_generative_model_evaluator, pt_to_generative_model\n",
                "from countergenedit.tools.utils import get_device\n",
                "from transformers import GPT2LMHeadModel\n",
                "import torch\n",
                "\n",
                "model_names = [\"distilgpt2\"]\n",
                "device = get_device()\n",
                "model: torch.nn.Module = GPT2LMHeadModel.from_pretrained(model_names[0]).to(device)\n",
                "model_ev = get_generative_model_evaluator(pt_to_generative_model(model), \"probability\")"
            ]
        },
        {
            "cell_type": "markdown",
            "metadata": {},
            "source": [
                "## 4b. Choose your metrics"
            ]
        },
        {
            "cell_type": "code",
            "execution_count": null,
            "metadata": {},
            "outputs": [],
            "source": [
                "aggregator = countergen.aggregators.PerformanceStatsPerCategory()"
            ]
        },
        {
            "cell_type": "markdown",
            "metadata": {},
            "source": [
                "## 5. Evaluate!"
            ]
        },
        {
            "cell_type": "code",
            "execution_count": null,
            "metadata": {},
            "outputs": [],
            "source": [
                "results = countergen.evaluate(aug_ds.samples, model_ev, aggregator)"
            ]
        },
        {
            "cell_type": "markdown",
            "metadata": {},
            "source": [
                "## 6. The results"
            ]
        },
        {
            "cell_type": "code",
            "execution_count": null,
            "metadata": {},
            "outputs": [],
            "source": [
                "aggregator.display({\"distilgpt2\":results})"
            ]
        },
        {
            "cell_type": "markdown",
            "metadata": {},
            "source": [
                "## 7. Edit..."
            ]
        },
        {
            "cell_type": "code",
            "execution_count": null,
            "metadata": {},
            "outputs": [],
            "source": [
                "from countergenedit.editing import ActivationsDataset, get_mlp_modules\n",
                "layers_dict = get_mlp_modules(model, [2,3])\n",
                "layers = list(layers_dict.values())\n",
                "act_ds = ActivationsDataset.from_augmented_samples(aug_ds.samples, model, layers)"
            ]
        },
        {
            "cell_type": "code",
            "execution_count": null,
            "metadata": {},
            "outputs": [],
            "source": [
                "from countergenedit.editing.direction_algos import inlp\n",
                "dirs = inlp(act_ds, n_training_iters=10)"
            ]
        },
        {
            "cell_type": "code",
            "execution_count": null,
            "metadata": {},
            "outputs": [],
            "source": [
                "from countergenedit.editing import edit_model, get_edit_configs\n",
                "configs = get_edit_configs(layers_dict, dirs, has_leftover=False)\n",
                "new_model = edit_model(model, configs=configs)"
            ]
        },
        {
            "cell_type": "code",
            "execution_count": null,
            "metadata": {},
            "outputs": [],
            "source": [
                "new_model_ev = get_generative_model_evaluator(pt_to_generative_model(new_model), \"probability\")\n",
                "new_results = countergen.evaluate(aug_ds.samples, new_model_ev, aggregator)\n",
                "aggregator.display({\"newdistilgpt2\":new_results})"
            ]
        },
        {
            "cell_type": "code",
            "execution_count": null,
            "metadata": {},
            "outputs": [],
            "source": [
                "from countergenedit.editing.direction_algos import rlace\n",
                "dirs = rlace(act_ds, n_dim=2, out_iters=100, num_clfs_in_eval=1, evalaute_every=50)"
            ]
        },
        {
            "cell_type": "code",
            "execution_count": null,
            "metadata": {},
            "outputs": [],
            "source": [
                "from countergenedit.editing import edit_model, get_edit_configs\n",
                "configs = get_edit_configs(layers_dict, dirs, has_leftover=False)\n",
                "new_model = edit_model(model, configs=configs)"
            ]
        },
        {
            "cell_type": "code",
            "execution_count": null,
            "metadata": {},
            "outputs": [],
            "source": [
                "new_model_ev = get_generative_model_evaluator(pt_to_generative_model(new_model), \"probability\")\n",
                "new_results = countergen.evaluate(aug_ds.samples, new_model_ev, aggregator)\n",
                "aggregator.display({\"newdistilgpt2\":new_results})"
            ]
        }
    ],
    "metadata": {
        "kernelspec": {
            "display_name": "Python 3.7.13 ('seven')",
            "language": "python",
            "name": "python3"
        },
        "language_info": {
            "codemirror_mode": {
                "name": "ipython",
                "version": 3
            },
            "file_extension": ".py",
            "mimetype": "text/x-python",
            "name": "python",
            "nbconvert_exporter": "python",
            "pygments_lexer": "ipython3",
            "version": "3.7.13"
        },
        "vscode": {
            "interpreter": {
                "hash": "c19ce8411f37a8b8579beb4987dd9b292a41194c1fe3735d596a9a084344949b"
            }
        }
    },
    "nbformat": 4,
    "nbformat_minor": 2
}
